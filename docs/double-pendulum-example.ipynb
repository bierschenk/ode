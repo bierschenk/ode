{
 "cells": [
  {
   "cell_type": "markdown",
   "metadata": {},
   "source": [
    "# Double Pendulum Example\n",
    "\n",
    "A double pendulum is a dynamic system which has chaotic mostion for many initial conditions.\n",
    "\n",
    "The derivation of the derivative function for this example is taken from https://myphysicslab.com/pendulum/double-pendulum-en.html\n",
    "\n",
    "![asdf](static/Double-Pendulum.svg \"Double Pendulum\")"
   ]
  },
  {
   "cell_type": "markdown",
   "metadata": {},
   "source": [
    "When the system is defined as a series of first-order differential equations the state vector is\n",
    "\n",
    "$$X = \\begin{bmatrix}\n",
    "\\theta_1 \\\\ \\theta_2 \\\\ \\omega_1 \\\\ \\omega_2\n",
    "\\end{bmatrix}$$\n",
    "and the derivative of the system is\n",
    "\n",
    "$$\\dot{X} = \\begin{bmatrix}\n",
    "\\dot{\\theta_1} \\\\ \\dot{\\theta_2} \\\\ \\dot{\\omega_1} \\\\ \\dot{\\omega_2}\n",
    "\\end{bmatrix} = \\begin{bmatrix}\n",
    "\\omega_1 \\\\ \\omega_2 \\\\\n",
    "\\frac{-g (2 m_1 + m_2) \\sin{\\theta_1} - m_2 g \\sin(\\theta_1 - 2 \\theta_2) - 2 \\sin(\\theta_1 - \\theta_2) m_2 (\\omega_2^2 L_2 + \\omega_1^2 L_1 \\cos(\\theta_1 - \\theta_2))}{L_1 (2 m_1 + m_2 - m_2 \\cos(2 \\theta_1 - 2 \\theta_2))} \\\\\n",
    "\\frac{2 \\sin(\\theta_1 - \\theta_2)(\\omega_1^2 L_1 (m_1 + m_2) + g (m_1 + m_2) \\cos{\\theta_1} + \\omega_2^2 L_2 m_2 \\cos(\\theta_1 - \\theta_2))}{L_2 (2 m_1 + m_2 - m_2 \\cos(2 \\theta_1 - 2 \\theta_2))}\n",
    "\\end{bmatrix}.\n",
    "$$"
   ]
  },
  {
   "cell_type": "code",
   "execution_count": null,
   "metadata": {},
   "outputs": [],
   "source": [
    "from math import sin, cos, pi\n",
    "\n",
    "def doublependulum(t,X):\n",
    "    th1, th2, om1, om2 = X\n",
    "    g = 9.81\n",
    "    m1 = 1\n",
    "    m2 = 1\n",
    "    l1 = 1\n",
    "    l2 = 1\n",
    "    k1 = -g * ((2 * m1) + m2) * sin(th1)\n",
    "    k2 = m2 * g * sin(th1 - (2 * th2))\n",
    "    k3 = 2 * sin(th1 - th2) * m2\n",
    "    k4 = ((om2**2) * l2) + ((om1**2) * l1 * cos(th1 - th2))\n",
    "    k5 = m2 * cos((2 * th1) - (2 * th2))\n",
    "    k6 = 2 * sin(th1 - th2)\n",
    "    k7 = ((om1**2) * l1 * (m1 + m2))\n",
    "    k8 = g * (m1 + m2) * cos(th1)\n",
    "    k9 = (om2**2) * l2 * m2 * cos(th1 - th2)\n",
    "    dX = [\n",
    "        om1,\n",
    "        om2,\n",
    "        (k1 - k2 - (k3 * k4)) / (l1 * ((2 * m1) + m2 - k5)),\n",
    "        (k6 * (k7 + k8 + k9)) / (l2 * ((2 * m1) + m2 - k5))\n",
    "    ]\n",
    "    return dX"
   ]
  },
  {
   "cell_type": "code",
   "execution_count": null,
   "metadata": {},
   "outputs": [],
   "source": [
    "cd .."
   ]
  },
  {
   "cell_type": "code",
   "execution_count": null,
   "metadata": {},
   "outputs": [],
   "source": [
    "import ode\n",
    "import matplotlib.pyplot as plt\n",
    "%matplotlib inline\n",
    "\n",
    "def angles2xy(X):\n",
    "    th1, th2, om1, om2 = X\n",
    "    l1 = 1\n",
    "    l2 = 1\n",
    "    x1 = l1 * sin(th1)\n",
    "    y1 = -l1 * cos(th1)\n",
    "    x2 = x1 + (l2 * sin(th2))\n",
    "    y2 = y1 - (l2 * cos(th2))\n",
    "    return x1, y1, x2, y2\n",
    "    \n",
    "\n",
    "et, ex = ode.euler(doublependulum, [pi/2,pi,0,0], [0,5], .001)\n",
    "ex1, ey1, ex2, ey2 = zip(*[angles2xy(xi) for xi in ex])\n",
    "\n",
    "bet, bex = ode.backwardeuler(doublependulum, [pi/2,pi,0,0], [0,5], .001)\n",
    "bex1, bey1, bex2, bey2 = zip(*[angles2xy(xi) for xi in bex])\n",
    "\n",
    "plt.plot(ex2, ey2, bex2, bey2)\n",
    "plt.axes().set_aspect('equal', 'datalim')\n",
    "plt.show()"
   ]
  }
 ],
 "metadata": {
  "kernelspec": {
   "display_name": "Python 3",
   "language": "python",
   "name": "python3"
  },
  "language_info": {
   "codemirror_mode": {
    "name": "ipython",
    "version": 3
   },
   "file_extension": ".py",
   "mimetype": "text/x-python",
   "name": "python",
   "nbconvert_exporter": "python",
   "pygments_lexer": "ipython3",
   "version": "3.6.5"
  }
 },
 "nbformat": 4,
 "nbformat_minor": 2
}
