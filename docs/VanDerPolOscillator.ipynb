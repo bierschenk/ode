{
 "cells": [
  {
   "cell_type": "markdown",
   "metadata": {},
   "source": [
    "# Van der Pol oscillator\n",
    "\n",
    "$$\\ddot{x} - \\mu (1 - x^2)\\dot{x} + x = 0$$\n",
    "\n",
    "Let the state vector be $U = \\begin{bmatrix}u_1 \\\\ u_2 \\end{bmatrix}$ where $u_1 = x$ and $u_2 = \\dot{x} = \\dot{u}_1$\n",
    "\n",
    "Substituting state variables:\n",
    "$$\\dot{u_2} - \\mu (1 - u_1^2) u_2 + u_1 = 0 $$\n",
    "\n",
    "$$\\dot{U} =\\begin{bmatrix} \\dot{u_1} \\\\ \\dot{u_2} \\end{bmatrix} = \\begin{bmatrix} u_2 \\\\ \\mu (1 - u_1^2) u_2 - u_1 \\end{bmatrix}$$"
   ]
  },
  {
   "cell_type": "code",
   "execution_count": null,
   "metadata": {},
   "outputs": [],
   "source": [
    "cd .."
   ]
  },
  {
   "cell_type": "code",
   "execution_count": null,
   "metadata": {},
   "outputs": [],
   "source": [
    "%matplotlib inline"
   ]
  },
  {
   "cell_type": "code",
   "execution_count": null,
   "metadata": {},
   "outputs": [],
   "source": [
    "# This cell can be run as a standalone script without jupyter notebook.\n",
    "\n",
    "import ode\n",
    "import numpy as np\n",
    "import matplotlib.pyplot as plt\n",
    "\n",
    "have plot by time.\n",
    "have phase space plot\n",
    "do phase space plot by using RK4 not rk4, plotting dx/dt vs x\n",
    "compare different integrators."
   ]
  }
 ],
 "metadata": {
  "kernelspec": {
   "display_name": "odetmp",
   "language": "python",
   "name": "odetmp"
  },
  "language_info": {
   "codemirror_mode": {
    "name": "ipython",
    "version": 3
   },
   "file_extension": ".py",
   "mimetype": "text/x-python",
   "name": "python",
   "nbconvert_exporter": "python",
   "pygments_lexer": "ipython3",
   "version": "3.7.3"
  }
 },
 "nbformat": 4,
 "nbformat_minor": 2
}
